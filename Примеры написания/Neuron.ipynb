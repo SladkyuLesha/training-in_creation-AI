{
 "cells": [
  {
   "cell_type": "code",
   "execution_count": 1,
   "id": "e7fabd43",
   "metadata": {},
   "outputs": [
    {
     "name": "stdout",
     "output_type": "stream",
     "text": [
      "tanh\n",
      "Epoch 1, Loss: 318.4726\n",
      "Epoch 2, Loss: 154.5110\n",
      "Epoch 3, Loss: 109.6715\n"
     ]
    }
   ],
   "source": [
    "import torch\n",
    "import torch.nn as nn\n",
    "import torch.nn.functional as F\n",
    "from torchvision import datasets, transforms\n",
    "from torch.utils.data import DataLoader\n",
    "import matplotlib.pyplot as plt\n",
    "\n",
    "# 1. Загрузка данных\n",
    "transform = transforms.Compose([transforms.ToTensor()])\n",
    "train_data = datasets.MNIST(root='.', train=True, download=True, transform=transform)\n",
    "test_data = datasets.MNIST(root='.', train=False, download=True, transform=transform)\n",
    "\n",
    "train_loader = DataLoader(train_data, batch_size=64, shuffle=True)\n",
    "test_loader = DataLoader(test_data, batch_size=64)\n",
    "\n",
    "# 2. Модель\n",
    "class SimpleNet(nn.Module):\n",
    "    def __init__(self, activation='relu'):\n",
    "        super(SimpleNet, self).__init__()\n",
    "        self.fc1 = nn.Linear(28*28, 128)\n",
    "        self.fc2 = nn.Linear(128, 10)\n",
    "        self.activation = activation\n",
    "\n",
    "    def forward(self, x):\n",
    "        x = x.view(-1, 28*28)\n",
    "        if self.activation == 'relu':\n",
    "            x = F.relu(self.fc1(x))\n",
    "        elif self.activation == 'sigmoid':\n",
    "            x = torch.sigmoid(self.fc1(x))\n",
    "        elif self.activation == 'tanh':\n",
    "            x = torch.tanh(self.fc1(x))\n",
    "        x = self.fc2(x)\n",
    "        return x\n",
    "\n",
    "# 3. Обучение\n",
    "def train(model, loader, optimizer, criterion, epochs=3):\n",
    "    model.train()\n",
    "    for epoch in range(epochs):\n",
    "        total_loss = 0\n",
    "        for X, y in loader:\n",
    "            optimizer.zero_grad()\n",
    "            out = model(X)\n",
    "            loss = criterion(out, y)\n",
    "            loss.backward()\n",
    "            optimizer.step()\n",
    "            total_loss += loss.item()\n",
    "        print(f\"Epoch {epoch+1}, Loss: {total_loss:.4f}\")\n",
    "\n",
    "# 4. Запуск\n",
    "model = SimpleNet(activation='tanh')  # попробуй 'sigmoid' и 'tanh'\n",
    "optimizer = torch.optim.Adam(model.parameters(), lr=0.001)\n",
    "criterion = nn.CrossEntropyLoss()\n",
    "\n",
    "print('tanh')\n",
    "train(model, train_loader, optimizer, criterion, epochs=3)"
   ]
  },
  {
   "cell_type": "code",
   "execution_count": 2,
   "id": "0180fee2",
   "metadata": {},
   "outputs": [
    {
     "name": "stdout",
     "output_type": "stream",
     "text": [
      "tanh\n"
     ]
    },
    {
     "name": "stderr",
     "output_type": "stream",
     "text": [
      "                                                                        \r"
     ]
    },
    {
     "name": "stdout",
     "output_type": "stream",
     "text": [
      "Epoch 1, Total Loss: 321.6652\n"
     ]
    },
    {
     "name": "stderr",
     "output_type": "stream",
     "text": [
      "                                                                        \r"
     ]
    },
    {
     "name": "stdout",
     "output_type": "stream",
     "text": [
      "Epoch 2, Total Loss: 157.7757\n"
     ]
    },
    {
     "name": "stderr",
     "output_type": "stream",
     "text": [
      "                                                                        "
     ]
    },
    {
     "name": "stdout",
     "output_type": "stream",
     "text": [
      "Epoch 3, Total Loss: 110.8620\n"
     ]
    },
    {
     "name": "stderr",
     "output_type": "stream",
     "text": [
      "\r"
     ]
    }
   ],
   "source": [
    "import torch\n",
    "import torch.nn as nn\n",
    "import torch.nn.functional as F\n",
    "from torchvision import datasets, transforms\n",
    "from torch.utils.data import DataLoader\n",
    "import matplotlib.pyplot as plt\n",
    "\n",
    "# 1. Загрузка данных\n",
    "transform = transforms.Compose([transforms.ToTensor()])\n",
    "train_data = datasets.MNIST(root='.', train=True, download=True, transform=transform)\n",
    "test_data = datasets.MNIST(root='.', train=False, download=True, transform=transform)\n",
    "\n",
    "train_loader = DataLoader(train_data, batch_size=64, shuffle=True)\n",
    "test_loader = DataLoader(test_data, batch_size=64)\n",
    "\n",
    "# 2. Модель\n",
    "class SimpleNet(nn.Module):\n",
    "    def __init__(self, activation='relu'):\n",
    "        super(SimpleNet, self).__init__()\n",
    "        self.fc1 = nn.Linear(28*28, 128)\n",
    "        self.fc2 = nn.Linear(128, 10)\n",
    "        self.activation = activation\n",
    "\n",
    "    def forward(self, x):\n",
    "        x = x.view(-1, 28*28)\n",
    "        if self.activation == 'relu':\n",
    "            x = F.relu(self.fc1(x))\n",
    "        elif self.activation == 'sigmoid':\n",
    "            x = torch.sigmoid(self.fc1(x))\n",
    "        elif self.activation == 'tanh':\n",
    "            x = torch.tanh(self.fc1(x))\n",
    "        x = self.fc2(x)\n",
    "        return x\n",
    "\n",
    "# 3. Обучение\n",
    "from tqdm import tqdm  # красиво отображает прогресс\n",
    "\n",
    "def train(model, loader, optimizer, criterion, epochs=1):\n",
    "    model.train()\n",
    "    for epoch in range(epochs):\n",
    "        total_loss = 0\n",
    "        progress_bar = tqdm(loader, desc=f\"Epoch {epoch+1}\", leave=False)\n",
    "        for X, y in progress_bar:\n",
    "            optimizer.zero_grad()\n",
    "            out = model(X)\n",
    "            loss = criterion(out, y)\n",
    "            loss.backward()\n",
    "            optimizer.step()\n",
    "\n",
    "            total_loss += loss.item()\n",
    "            progress_bar.set_postfix(loss=loss.item())\n",
    "\n",
    "        print(f\"Epoch {epoch+1}, Total Loss: {total_loss:.4f}\")\n",
    "\n",
    "\n",
    "# 4. Запуск\n",
    "model = SimpleNet(activation='tanh')  # попробуй 'sigmoid' и 'tanh'\n",
    "optimizer = torch.optim.Adam(model.parameters(), lr=0.001)\n",
    "criterion = nn.CrossEntropyLoss()\n",
    "\n",
    "print('tanh')\n",
    "train(model, train_loader, optimizer, criterion, epochs=3)"
   ]
  },
  {
   "cell_type": "code",
   "execution_count": 3,
   "id": "4aa7a3e9",
   "metadata": {},
   "outputs": [
    {
     "name": "stdout",
     "output_type": "stream",
     "text": [
      "tanh\n"
     ]
    },
    {
     "name": "stderr",
     "output_type": "stream",
     "text": [
      "Epoch 1: 100%|██████████| 938/938 [00:06<00:00, 142.44it/s]\n"
     ]
    },
    {
     "name": "stdout",
     "output_type": "stream",
     "text": [
      "Epoch 1, Loss: 0.5356\n"
     ]
    },
    {
     "name": "stderr",
     "output_type": "stream",
     "text": [
      "Epoch 2: 100%|██████████| 938/938 [00:06<00:00, 146.69it/s]\n"
     ]
    },
    {
     "name": "stdout",
     "output_type": "stream",
     "text": [
      "Epoch 2, Loss: 0.2294\n"
     ]
    },
    {
     "name": "stderr",
     "output_type": "stream",
     "text": [
      "Epoch 3: 100%|██████████| 938/938 [00:06<00:00, 149.15it/s]"
     ]
    },
    {
     "name": "stdout",
     "output_type": "stream",
     "text": [
      "Epoch 3, Loss: 0.1756\n"
     ]
    },
    {
     "name": "stderr",
     "output_type": "stream",
     "text": [
      "\n"
     ]
    }
   ],
   "source": [
    "import torch\n",
    "import torch.nn as nn\n",
    "import torch.nn.functional as F\n",
    "from torchvision import datasets, transforms\n",
    "from torch.utils.data import DataLoader\n",
    "import matplotlib.pyplot as plt\n",
    "\n",
    "# 1. Загрузка данных\n",
    "transform = transforms.Compose([transforms.ToTensor()])\n",
    "train_data = datasets.MNIST(root='.', train=True, download=True, transform=transform)\n",
    "test_data = datasets.MNIST(root='.', train=False, download=True, transform=transform)\n",
    "\n",
    "train_loader = DataLoader(train_data, batch_size=64, shuffle=True)\n",
    "test_loader = DataLoader(test_data, batch_size=64)\n",
    "\n",
    "# 2. Модель\n",
    "class SimpleNet(nn.Module):\n",
    "    def __init__(self, activation='relu'):\n",
    "        super(SimpleNet, self).__init__()\n",
    "        self.fc1 = nn.Linear(28*28, 128)\n",
    "        self.fc2 = nn.Linear(128, 10)\n",
    "        self.activation = activation\n",
    "\n",
    "    def forward(self, x):\n",
    "        x = x.view(-1, 28*28)\n",
    "        if self.activation == 'relu':\n",
    "            x = F.relu(self.fc1(x))\n",
    "        elif self.activation == 'sigmoid':\n",
    "            x = torch.sigmoid(self.fc1(x))\n",
    "        elif self.activation == 'tanh':\n",
    "            x = torch.tanh(self.fc1(x))\n",
    "        x = self.fc2(x)\n",
    "        return x\n",
    "\n",
    "# 3. Обучение\n",
    "loss_history = []\n",
    "\n",
    "def train(model, loader, optimizer, criterion, epochs=1):\n",
    "    model.train()\n",
    "    for epoch in range(epochs):\n",
    "        total_loss = 0\n",
    "        for X, y in tqdm(loader, desc=f\"Epoch {epoch+1}\"):\n",
    "            optimizer.zero_grad()\n",
    "            out = model(X)\n",
    "            loss = criterion(out, y)\n",
    "            loss.backward()\n",
    "            optimizer.step()\n",
    "            total_loss += loss.item()\n",
    "\n",
    "        avg_loss = total_loss / len(loader)\n",
    "        loss_history.append(avg_loss)\n",
    "        print(f\"Epoch {epoch+1}, Loss: {avg_loss:.4f}\")\n",
    "\n",
    "\n",
    "# 4. Запуск\n",
    "model = SimpleNet(activation='sigmoid')  # попробуй 'sigmoid' и 'tanh'\n",
    "optimizer = torch.optim.Adam(model.parameters(), lr=0.001)\n",
    "criterion = nn.CrossEntropyLoss()\n",
    "\n",
    "print('tanh')\n",
    "train(model, train_loader, optimizer, criterion, epochs=3)"
   ]
  },
  {
   "cell_type": "code",
   "execution_count": 4,
   "id": "3193dabf",
   "metadata": {},
   "outputs": [
    {
     "data": {
      "image/png": "[encoded data removed]",
      "text/plain": [
       "<Figure size 640x480 with 1 Axes>"
      ]
     },
     "metadata": {},
     "output_type": "display_data"
    }
   ],
   "source": [
    "plt.plot(loss_history)\n",
    "plt.title(\"Loss по эпохам\")\n",
    "plt.xlabel(\"Эпоха\")\n",
    "plt.ylabel(\"Loss\")\n",
    "plt.grid(True)\n",
    "plt.show()"
   ]
  },
  {
   "cell_type": "code",
   "execution_count": 5,
   "id": "68573041",
   "metadata": {},
   "outputs": [
    {
     "name": "stdout",
     "output_type": "stream",
     "text": [
      "\n",
      "=== Epoch 1 ===\n",
      "\n",
      "Первые 10 предсказаний:\n",
      "  Правильный = 0 \t Предсказание = 1\n",
      "  Правильный = 7 \t Предсказание = 1\n",
      "  Правильный = 1 \t Предсказание = 1\n",
      "  Правильный = 6 \t Предсказание = 1\n",
      "  Правильный = 3 \t Предсказание = 1\n",
      "  Правильный = 7 \t Предсказание = 1\n",
      "  Правильный = 7 \t Предсказание = 1\n",
      "  Правильный = 6 \t Предсказание = 1\n",
      "  Правильный = 7 \t Предсказание = 1\n",
      "  Правильный = 3 \t Предсказание = 1\n",
      "\n",
      "Последние 10 предсказаний:\n",
      "  Правильный = 7 \t Предсказание = 7\n",
      "  Правильный = 9 \t Предсказание = 9\n",
      "  Правильный = 7 \t Предсказание = 7\n",
      "  Правильный = 7 \t Предсказание = 7\n",
      "  Правильный = 2 \t Предсказание = 2\n",
      "  Правильный = 5 \t Предсказание = 5\n",
      "  Правильный = 6 \t Предсказание = 6\n",
      "  Правильный = 1 \t Предсказание = 1\n",
      "  Правильный = 1 \t Предсказание = 1\n",
      "  Правильный = 3 \t Предсказание = 3\n",
      "Loss: 497.1078 | Accuracy: 87.11%\n",
      "\n",
      "=== Epoch 2 ===\n",
      "\n",
      "Первые 10 предсказаний:\n",
      "  Правильный = 3 \t Предсказание = 3\n",
      "  Правильный = 9 \t Предсказание = 9\n",
      "  Правильный = 5 \t Предсказание = 5\n",
      "  Правильный = 9 \t Предсказание = 9\n",
      "  Правильный = 2 \t Предсказание = 2\n",
      "  Правильный = 6 \t Предсказание = 6\n",
      "  Правильный = 3 \t Предсказание = 2\n",
      "  Правильный = 0 \t Предсказание = 0\n",
      "  Правильный = 7 \t Предсказание = 7\n",
      "  Правильный = 5 \t Предсказание = 5\n",
      "\n",
      "Последние 10 предсказаний:\n",
      "  Правильный = 8 \t Предсказание = 8\n",
      "  Правильный = 2 \t Предсказание = 2\n",
      "  Правильный = 2 \t Предсказание = 2\n",
      "  Правильный = 9 \t Предсказание = 9\n",
      "  Правильный = 9 \t Предсказание = 9\n",
      "  Правильный = 3 \t Предсказание = 3\n",
      "  Правильный = 8 \t Предсказание = 8\n",
      "  Правильный = 8 \t Предсказание = 8\n",
      "  Правильный = 9 \t Предсказание = 9\n",
      "  Правильный = 0 \t Предсказание = 0\n",
      "Loss: 217.1484 | Accuracy: 93.31%\n",
      "\n",
      "=== Epoch 3 ===\n",
      "\n",
      "Первые 10 предсказаний:\n",
      "  Правильный = 6 \t Предсказание = 6\n",
      "  Правильный = 8 \t Предсказание = 8\n",
      "  Правильный = 1 \t Предсказание = 1\n",
      "  Правильный = 6 \t Предсказание = 6\n",
      "  Правильный = 2 \t Предсказание = 2\n",
      "  Правильный = 2 \t Предсказание = 2\n",
      "  Правильный = 6 \t Предсказание = 6\n",
      "  Правильный = 5 \t Предсказание = 5\n",
      "  Правильный = 9 \t Предсказание = 9\n",
      "  Правильный = 7 \t Предсказание = 7\n",
      "\n",
      "Последние 10 предсказаний:\n",
      "  Правильный = 1 \t Предсказание = 1\n",
      "  Правильный = 5 \t Предсказание = 5\n",
      "  Правильный = 5 \t Предсказание = 5\n",
      "  Правильный = 7 \t Предсказание = 7\n",
      "  Правильный = 4 \t Предсказание = 4\n",
      "  Правильный = 3 \t Предсказание = 3\n",
      "  Правильный = 6 \t Предсказание = 6\n",
      "  Правильный = 2 \t Предсказание = 2\n",
      "  Правильный = 6 \t Предсказание = 6\n",
      "  Правильный = 3 \t Предсказание = 3\n",
      "Loss: 167.3722 | Accuracy: 94.90%\n"
     ]
    },
    {
     "data": {
      "image/png": "[encoded data removed]",
      "text/plain": [
       "<Figure size 1200x500 with 2 Axes>"
      ]
     },
     "metadata": {},
     "output_type": "display_data"
    }
   ],
   "source": [
    "import torch\n",
    "import torch.nn as nn\n",
    "import torch.nn.functional as F\n",
    "from torchvision import datasets, transforms\n",
    "from torch.utils.data import DataLoader\n",
    "import matplotlib.pyplot as plt\n",
    "\n",
    "# 1. Загрузка данных\n",
    "transform = transforms.Compose([transforms.ToTensor()])\n",
    "train_data = datasets.MNIST(root='.', train=True, download=True, transform=transform)\n",
    "test_data = datasets.MNIST(root='.', train=False, download=True, transform=transform)\n",
    "\n",
    "train_loader = DataLoader(train_data, batch_size=64, shuffle=True)\n",
    "test_loader = DataLoader(test_data, batch_size=64)\n",
    "\n",
    "# 2. Модель\n",
    "class SimpleNet(nn.Module):\n",
    "    def __init__(self, activation='relu'):\n",
    "        super(SimpleNet, self).__init__()\n",
    "        self.fc1 = nn.Linear(28*28, 128)\n",
    "        self.fc2 = nn.Linear(128, 10)\n",
    "        self.activation = activation\n",
    "\n",
    "    def forward(self, x):\n",
    "        x = x.view(-1, 28*28)\n",
    "        if self.activation == 'relu':\n",
    "            x = F.relu(self.fc1(x))\n",
    "        elif self.activation == 'sigmoid':\n",
    "            x = torch.sigmoid(self.fc1(x))\n",
    "        elif self.activation == 'tanh':\n",
    "            x = torch.tanh(self.fc1(x))\n",
    "        x = self.fc2(x)\n",
    "        return x\n",
    "\n",
    "# 3. Обучение\n",
    "def train(model, loader, optimizer, criterion, epochs=3):\n",
    "    model.train()\n",
    "    loss_history = []\n",
    "    accuracy_history = []\n",
    "\n",
    "    for epoch in range(epochs):\n",
    "        total_loss = 0\n",
    "        correct = 0\n",
    "        total = 0\n",
    "\n",
    "        print(f\"\\n=== Epoch {epoch + 1} ===\")\n",
    "        for i, (X, y) in enumerate(loader):\n",
    "            optimizer.zero_grad()\n",
    "            out = model(X)\n",
    "            loss = criterion(out, y)\n",
    "            loss.backward()\n",
    "            optimizer.step()\n",
    "            total_loss += loss.item()\n",
    "\n",
    "            # Подсчёт accuracy\n",
    "            predicted = torch.argmax(out, dim=1)\n",
    "            correct += (predicted == y).sum().item()\n",
    "            total += y.size(0)\n",
    "\n",
    "            # Печатаем первые и последние 10 предсказаний только 1 раз за эпоху\n",
    "            if i == 0:\n",
    "                print(\"\\nПервые 10 предсказаний:\")\n",
    "                for real, pred in zip(y[:10], predicted[:10]):\n",
    "                    print(f\"  Правильный = {real.item()} \\t Предсказание = {pred.item()}\")\n",
    "            elif i == len(loader) - 1:\n",
    "                print(\"\\nПоследние 10 предсказаний:\")\n",
    "                for real, pred in zip(y[:10], predicted[:10]):\n",
    "                    print(f\"  Правильный = {real.item()} \\t Предсказание = {pred.item()}\")\n",
    "\n",
    "        avg_loss = total_loss\n",
    "        accuracy = correct / total\n",
    "        loss_history.append(avg_loss)\n",
    "        accuracy_history.append(accuracy)\n",
    "\n",
    "        print(f\"Loss: {avg_loss:.4f} | Accuracy: {accuracy * 100:.2f}%\")\n",
    "\n",
    "    return loss_history, accuracy_history\n",
    "\n",
    "\n",
    "\n",
    "\n",
    "\n",
    "# 4. Запуск\n",
    "model = SimpleNet(activation='sigmoid')  # попробуй 'relu', 'sigmoid' или 'tanh'\n",
    "optimizer = torch.optim.Adam(model.parameters(), lr=0.001)\n",
    "criterion = nn.CrossEntropyLoss()\n",
    "\n",
    "loss_hist, acc_hist = train(model, train_loader, optimizer, criterion, epochs=3)\n",
    "\n",
    "# 5. Графики\n",
    "epochs = range(1, len(loss_hist) + 1)\n",
    "plt.figure(figsize=(12, 5))\n",
    "\n",
    "plt.subplot(1, 2, 1)\n",
    "plt.plot(epochs, loss_hist, marker='o')\n",
    "plt.title(\"Потери (Loss) по эпохам\")\n",
    "plt.xlabel(\"Эпоха\")\n",
    "plt.ylabel(\"Loss\")\n",
    "\n",
    "plt.subplot(1, 2, 2)\n",
    "plt.plot(epochs, [a * 100 for a in acc_hist], marker='o', color='green')\n",
    "plt.title(\"Точность (Accuracy) по эпохам\")\n",
    "plt.xlabel(\"Эпоха\")\n",
    "plt.ylabel(\"Accuracy (%)\")\n",
    "\n",
    "plt.tight_layout()\n",
    "plt.show()"
   ]
  }
 ],
 "metadata": {
  "kernelspec": {
   "display_name": "Python 3",
   "language": "python",
   "name": "python3"
  },
  "language_info": {
   "codemirror_mode": {
    "name": "ipython",
    "version": 3
   },
   "file_extension": ".py",
   "mimetype": "text/x-python",
   "name": "python",
   "nbconvert_exporter": "python",
   "pygments_lexer": "ipython3",
   "version": "3.11.9"
  }
 },
 "nbformat": 4,
 "nbformat_minor": 5
}
